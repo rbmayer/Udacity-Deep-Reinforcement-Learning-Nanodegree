{
 "cells": [
  {
   "cell_type": "markdown",
   "metadata": {},
   "source": [
    "# Prioritized Replay Experiments"
   ]
  },
  {
   "cell_type": "markdown",
   "metadata": {},
   "source": [
    "Default hyperparameters:"
   ]
  },
  {
   "cell_type": "code",
   "execution_count": 6,
   "metadata": {},
   "outputs": [],
   "source": [
    "BUFFER_SIZE = int(100000) # replay buffer size\n",
    "BATCH_SIZE = 64           # minibatch size\n",
    "GAMMA = 0.99              # discount rate\n",
    "TAU = .001                # weight for soft update of target q-network parameters\n",
    "LR = .0005                # learning rate for backprop\n",
    "UPDATE_EVERY = 4          # number of time steps between backward passes on local q-network\n",
    "eps=0.99                  # starting value for epsilon, the probability of randomly selecting an action  \n",
    "decay=0.015               # the rate of decay in epsilon\n",
    "min_eps=0.01              # minimum value of epsilon"
   ]
  },
  {
   "cell_type": "markdown",
   "metadata": {},
   "source": [
    "## Baseline Solution"
   ]
  },
  {
   "cell_type": "markdown",
   "metadata": {},
   "source": [
    "Run the next code cell to install a few packages.  This line will take a few minutes to run!"
   ]
  },
  {
   "cell_type": "code",
   "execution_count": null,
   "metadata": {},
   "outputs": [],
   "source": [
    "!pip -q install ./python"
   ]
  },
  {
   "cell_type": "code",
   "execution_count": 27,
   "metadata": {},
   "outputs": [],
   "source": [
    "import random\n",
    "from collections import namedtuple, deque\n",
    "import torch\n",
    "import torch.nn as nn\n",
    "import torch.nn.functional as F\n",
    "import torch.optim as optim\n",
    "import matplotlib.pyplot as plt\n",
    "import pickle\n",
    "import timeit"
   ]
  },
  {
   "cell_type": "markdown",
   "metadata": {},
   "source": [
    "The environment is already saved in the Workspace and can be accessed at the file path provided below.  Please run the next code cell without making any changes."
   ]
  },
  {
   "cell_type": "code",
   "execution_count": null,
   "metadata": {},
   "outputs": [],
   "source": [
    "from unityagents import UnityEnvironment\n",
    "import numpy as np\n",
    "\n",
    "# please do not modify the line below\n",
    "env = UnityEnvironment(file_name=\"/data/Banana_Linux_NoVis/Banana.x86_64\")"
   ]
  },
  {
   "cell_type": "code",
   "execution_count": 35,
   "metadata": {},
   "outputs": [],
   "source": [
    "class QNetwork(nn.Module):\n",
    "    \"\"\"Value function template\"\"\"\n",
    "    def __init__(self, state_size, action_size, seed, fc1_units=64, fc2_units=64):\n",
    "        super(QNetwork, self).__init__()\n",
    "        self.seed = torch.manual_seed(seed)\n",
    "        self.fc1 = nn.Linear(state_size, fc1_units)\n",
    "        self.fc2 = nn.Linear(fc1_units, fc2_units)\n",
    "        self.fc3 = nn.Linear(fc2_units, action_size)\n",
    "        \n",
    "    def forward(self, state):\n",
    "        x = F.relu(self.fc1(state))\n",
    "        x = F.relu(self.fc2(x))\n",
    "        y = self.fc3(x)\n",
    "        return y"
   ]
  },
  {
   "cell_type": "code",
   "execution_count": 12,
   "metadata": {},
   "outputs": [],
   "source": [
    "class ReplayBuffer():\n",
    "    def __init__(self, action_size, buffer_size, batch_size, seed):\n",
    "        \"\"\"Initialize a ReplayBuffer object\"\"\"\n",
    "        self.action_size = action_size\n",
    "        self.memory = deque(maxlen=buffer_size)\n",
    "        self.batch_size = batch_size\n",
    "        self.experience = namedtuple(\"Experience\", field_names=[\"state\", \"action\", \"reward\", \"next_state\", \"done\"])\n",
    "        self.seed = random.seed(seed)\n",
    "        \n",
    "    def add(self, state, action, reward, next_state, done):\n",
    "        \"\"\"Add a new experience to memory\"\"\"\n",
    "        e = self.experience(state, action, reward, next_state, done)\n",
    "        self.memory.append(e)\n",
    "        \n",
    "    def sample(self):\n",
    "        \"\"\"Randomly sample a batch of experiences from the memory buffer\"\"\"\n",
    "        experiences = random.sample(self.memory, k=self.batch_size)\n",
    "        # reshape and return experience components to device (CPU or GPU, set elsewhere)\n",
    "        # from_numpy() creates pytorch tensor from numpy array\n",
    "        states = torch.from_numpy(np.vstack([e.state for e in experiences if e is not None])).float().to(device)\n",
    "        actions = torch.from_numpy(np.vstack([e.action for e in experiences if e is not None])).long().to(device)\n",
    "        rewards = torch.from_numpy(np.vstack([e.reward for e in experiences if e is not None])).float().to(device)\n",
    "        next_states = torch.from_numpy(np.stack([e.next_state for e in experiences if e is not None])).float().to(device)\n",
    "        dones = torch.from_numpy(np.vstack([e.done for e in experiences if e is not None]).astype(np.uint8)).float().to(device)\n",
    "        \n",
    "        return (states, actions, rewards, next_states, dones)\n",
    "    \n",
    "    def buffer_to_list(self):\n",
    "        return list(self.memory)\n",
    "    \n",
    "    def __len__(self):\n",
    "        \"\"\"Return the current size of replay buffer memory\"\"\"\n",
    "        return len(self.memory)"
   ]
  },
  {
   "cell_type": "code",
   "execution_count": 16,
   "metadata": {},
   "outputs": [],
   "source": [
    "class Agent():\n",
    "    def __init__(self, state_size, action_size, seed, eps=0.99, decay=0.015, min_eps=0.01):\n",
    "        \"\"\"Initialize the learning agent.\n",
    "        \n",
    "        params:\n",
    "            decay: (0, 1] epsilon is multplied by (1 - decay) after each episode. \n",
    "        \"\"\"\n",
    "        self.state_size = state_size\n",
    "        self.action_size = action_size\n",
    "        self.seed = random.seed(seed)\n",
    "        self.eps = eps\n",
    "        self.decay = decay\n",
    "        self.min_eps = min_eps\n",
    "        \n",
    "        #Initialize local and target q-networks\n",
    "        self.qnetwork_local = QNetwork(state_size, action_size, seed).to(device)\n",
    "        self.qnetwork_target = QNetwork(state_size, action_size, seed).to(device)\n",
    "        \n",
    "        # Initialize optimizer to run gradient descent on local q-network\n",
    "        self.optimizer = optim.Adam(self.qnetwork_local.parameters(), lr=LR) # LR is environment variable\n",
    "        \n",
    "        # Get experiences for training from replay buffer\n",
    "        self.memory = ReplayBuffer(action_size, BUFFER_SIZE, BATCH_SIZE, seed)\n",
    "        self.t_step = 0 # Time step counter\n",
    "        self.replay_buffer = None\n",
    "        \n",
    "    def step(self, state, action, reward, next_state, done):\n",
    "        # Save step to replay buffer\n",
    "        self.memory.add(state, action, reward, next_state, done)\n",
    "        # Run learning cycle (backprop) every UPDATE_EVERY time steps\n",
    "        self.t_step = (self.t_step + 1) % UPDATE_EVERY\n",
    "        if self.t_step == 0:\n",
    "            # Make sure there are enough samples in buffer to fill batch\n",
    "            if len(self.memory) > BATCH_SIZE:\n",
    "                experiences = self.memory.sample()\n",
    "                self.learn(experiences, GAMMA)\n",
    "        # apply epsilon decay after each episode\n",
    "        if done:\n",
    "            self.eps = max(self.min_eps, self.eps * (1 - self.decay))\n",
    "            # Save replay buffer to list\n",
    "            self.replay_buffer = self.memory.buffer_to_list()\n",
    "        \n",
    "    def act(self, state):\n",
    "        \"\"\"Get policy action given current state\"\"\"\n",
    "        # unsqueeze() returns new tensor with extra dimension inserted at position\n",
    "        state = torch.from_numpy(state).float().unsqueeze(0).to(device)\n",
    "        # put qnetwork_local in eval mode (disable gradient computations)\n",
    "        self.qnetwork_local.eval()\n",
    "        with torch.no_grad():\n",
    "            # get inference\n",
    "            action_values = self.qnetwork_local(state)\n",
    "        # put qnetwork_local back in train mode\n",
    "        self.qnetwork_local.train()\n",
    "        \n",
    "        # select epsilon-greedy action from inference values\n",
    "        if random.random() > self.eps:\n",
    "            return np.argmax(action_values.cpu().data.numpy())\n",
    "        else:\n",
    "            return random.choice(np.arange(self.action_size))\n",
    "        \n",
    "    def learn(self, experiences, gamma):\n",
    "        \"\"\"Update parameters of local qnetwork using backward pass\"\"\"\n",
    "        states, actions, rewards, next_states, dones = experiences\n",
    "        \n",
    "        # Get max predicted Q values for next states from target model\n",
    "        Q_targets_next = self.qnetwork_target(next_states).detach().max(1)[0].unsqueeze(1)\n",
    "        # Compute Q targets for current states\n",
    "        Q_targets = rewards + (gamma * Q_targets_next * (1 - dones))\n",
    "        # Get expected Q values from local network\n",
    "        Q_expected = self.qnetwork_local(states).gather(1, actions)\n",
    "        \n",
    "        # Compute loss\n",
    "        loss = F.mse_loss(Q_expected, Q_targets)\n",
    "        # Minimize the loss\n",
    "        self.optimizer.zero_grad()\n",
    "        loss.backward()\n",
    "        self.optimizer.step()\n",
    "        \n",
    "        # update target network\n",
    "        self.soft_update(self.qnetwork_local, self.qnetwork_target, TAU)\n",
    "\n",
    "        \n",
    "    def soft_update(self, local_model, target_model, tau):\n",
    "        \"\"\"Soft update model parameters.\n",
    "        θ_target = τ*θ_local + (1 - τ)*θ_target\n",
    "\n",
    "        Params\n",
    "        ======\n",
    "            local_model (PyTorch model): weights will be copied from\n",
    "            target_model (PyTorch model): weights will be copied to\n",
    "            tau (float): interpolation parameter \n",
    "        \"\"\"\n",
    "        for target_param, local_param in zip(target_model.parameters(), local_model.parameters()):\n",
    "            target_param.data.copy_(tau * local_param.data + (1.0-tau) * target_param.data)"
   ]
  },
  {
   "cell_type": "code",
   "execution_count": null,
   "metadata": {},
   "outputs": [],
   "source": [
    "device = torch.device(\"cuda:0\" if torch.cuda.is_available() else \"cpu\")"
   ]
  },
  {
   "cell_type": "code",
   "execution_count": 8,
   "metadata": {},
   "outputs": [],
   "source": [
    "def run_episode(agent):\n",
    "    # reset the environment\n",
    "    env_info = env.reset(train_mode=True)[brain_name] \n",
    "    state = env_info.vector_observations[0]            # get the current state\n",
    "    state_size = len(state)\n",
    "    score = 0  \n",
    "\n",
    "    while True:\n",
    "        # get next experience\n",
    "        action = agent.act(state)                      # get policy-based action\n",
    "        env_info = env.step(action)[brain_name]        # send the action to the environment\n",
    "        next_state = env_info.vector_observations[0]   # get the next state\n",
    "        reward = env_info.rewards[0]                   # get the reward\n",
    "        done = env_info.local_done[0]                  # see if episode has finished\n",
    "\n",
    "        # add experience to replay buffer & learn every UPDATE_EVERY steps\n",
    "        agent.step(state, action, reward, next_state, done) \n",
    "\n",
    "        # increment score\n",
    "        score += reward                                # update the score\n",
    "        state = next_state                             # roll over the state to next time step\n",
    "        if done:                                       # exit loop if episode finished\n",
    "            return score, agent.replay_buffer"
   ]
  },
  {
   "cell_type": "code",
   "execution_count": 9,
   "metadata": {},
   "outputs": [],
   "source": [
    "def train_banana_agent(agent, n_episodes=500, max_t=2000):\n",
    "    scores = []\n",
    "    scores_window = deque(maxlen=100)\n",
    "    for i_episode in range(1, n_episodes+1):\n",
    "        score, _ = run_episode(agent)\n",
    "        scores.append(score)\n",
    "        scores_window.append(score)\n",
    "        print('\\rEpisode {}\\tAverage Score: {:.2f}'.format(i_episode, np.mean(scores_window)), end=\"\")\n",
    "        if i_episode % 100 == 0:\n",
    "            print('\\rEpisode {}\\tAverage Score: {:.2f}'.format(i_episode, np.mean(scores_window)))\n",
    "        if np.mean(scores_window) >= 13.0:\n",
    "            print('\\nEnvironment solved in {:d} episodes!\\tAverage Score: {:.2f}'.format(i_episode-100, np.mean(scores_window)))\n",
    "            torch.save(agent.qnetwork_local.state_dict(), 'checkpoint.pth')\n",
    "            break\n",
    "    return scores"
   ]
  },
  {
   "cell_type": "code",
   "execution_count": 39,
   "metadata": {},
   "outputs": [
    {
     "name": "stdout",
     "output_type": "stream",
     "text": [
      "Episode 100\tAverage Score: 1.48\n",
      "Episode 200\tAverage Score: 6.94\n",
      "Episode 300\tAverage Score: 11.05\n",
      "Episode 377\tAverage Score: 13.01\n",
      "Environment solved in 277 episodes!\tAverage Score: 13.01\n",
      "\n",
      "training time: 300.1870413050001s\n"
     ]
    }
   ],
   "source": [
    "# get the default brain\n",
    "brain_name = env.brain_names[0]\n",
    "brain = env.brains[brain_name]\n",
    "action_size = brain.vector_action_space_size\n",
    "\n",
    "# reset the environment\n",
    "env_info = env.reset(train_mode=True)[brain_name] \n",
    "state = env_info.vector_observations[0]            # get the current state\n",
    "state_size = len(state)\n",
    "score = 0  \n",
    "\n",
    "# update environment variables if desired\n",
    "\n",
    "\n",
    "# create agent; initialize local and target q-network functions\n",
    "agent = Agent(state_size=state_size, action_size=action_size, seed=561, \n",
    "              eps=0.99, decay=0.015, min_eps=0.01)\n",
    "\n",
    "start_time = timeit.default_timer()\n",
    "scores = train_banana_agent(agent=agent, n_episodes=500, max_t=2000)\n",
    "elapsed = timeit.default_timer() - start_time\n",
    "print('\\ntraining time: {}s'.format(elapsed))"
   ]
  },
  {
   "cell_type": "markdown",
   "metadata": {},
   "source": [
    "### Plot of Rewards per Episode"
   ]
  },
  {
   "cell_type": "code",
   "execution_count": 40,
   "metadata": {},
   "outputs": [
    {
     "data": {
      "image/png": "[encoded data removed]",
      "text/plain": [
       "<matplotlib.figure.Figure at 0x7f271674ed68>"
      ]
     },
     "metadata": {
      "needs_background": "light"
     },
     "output_type": "display_data"
    }
   ],
   "source": [
    "# Plot the score trend over episodes\n",
    "plt.plot(scores)\n",
    "plt.xlabel(\"episode\")\n",
    "plt.ylabel(\"score\")\n",
    "plt.title(\"Training scores\")\n",
    "plt.show()"
   ]
  },
  {
   "cell_type": "markdown",
   "metadata": {},
   "source": [
    "Observations:\n",
    "* The banana game trained fastest when exploration (epsilon) decayed quickly to a minimal level (1% exploration, 99% greedy action)."
   ]
  },
  {
   "cell_type": "code",
   "execution_count": 41,
   "metadata": {},
   "outputs": [],
   "source": [
    "# save model weights\n",
    "w = agent.qnetwork_local.parameters()\n",
    "\n",
    "weights = []\n",
    "for elem in w:\n",
    "    weights.append(elem.detach().numpy())\n",
    "\n",
    "with open('weights.pkl', 'wb') as f:\n",
    "    pickle.dump(weights, f)"
   ]
  },
  {
   "cell_type": "markdown",
   "metadata": {},
   "source": [
    "## Experiments with Prioritized Replay\n",
    "\n",
    "Picking up a banana -- of either color -- is a relatively infrequent occurence in the banana game. Would prioritizing replay of pickup experiences improve learning?\n",
    "\n",
    "First, let's measure how frequently an agent receives a non-zero reward."
   ]
  },
  {
   "cell_type": "code",
   "execution_count": 20,
   "metadata": {},
   "outputs": [],
   "source": [
    "def train_banana_agent(agent, n_episodes=350, max_t=2000):\n",
    "    scores = []\n",
    "    scores_window = deque(maxlen=100)\n",
    "    for i_episode in range(1, n_episodes+1):\n",
    "        score, replay_buffer = run_episode(agent)\n",
    "        scores.append(score)\n",
    "        scores_window.append(score)\n",
    "        print('\\rEpisode {}\\tAverage Score: {:.2f}'.format(i_episode, np.mean(scores_window)), end=\"\")\n",
    "        if i_episode % 100 == 0:\n",
    "            print('\\rEpisode {}\\tAverage Score: {:.2f}'.format(i_episode, np.mean(scores_window)))\n",
    "        if np.mean(scores_window) >= 13.0:\n",
    "            print('\\nEnvironment solved in {:d} episodes!\\tAverage Score: {:.2f}'.format(i_episode-100, np.mean(scores_window)))\n",
    "            torch.save(agent.qnetwork_local.state_dict(), 'checkpoint.pth')\n",
    "            break\n",
    "    return scores, replay_buffer"
   ]
  },
  {
   "cell_type": "code",
   "execution_count": 23,
   "metadata": {},
   "outputs": [
    {
     "name": "stdout",
     "output_type": "stream",
     "text": [
      "Episode 100\tAverage Score: 0.90\n"
     ]
    }
   ],
   "source": [
    "# get the default brain\n",
    "brain_name = env.brain_names[0]\n",
    "brain = env.brains[brain_name]\n",
    "action_size = brain.vector_action_space_size\n",
    "\n",
    "# reset the environment\n",
    "env_info = env.reset(train_mode=True)[brain_name] \n",
    "state = env_info.vector_observations[0]            # get the current state\n",
    "state_size = len(state)\n",
    "score = 0  \n",
    "\n",
    "# create agent; initialize local and target q-network functions\n",
    "agent = Agent(state_size=state_size, action_size=action_size, seed=561, \n",
    "              eps=0.99, decay=0.015, min_eps=0.01)\n",
    "\n",
    "start_time = timeit.default_timer()\n",
    "scores1, replay_buffer_1 = train_banana_agent(agent, n_episodes=100)"
   ]
  },
  {
   "cell_type": "markdown",
   "metadata": {},
   "source": [
    "The proportion of positive, negative and zero-valued rewards during play confirm that non-zero rewards are very infrequent events (<1%). "
   ]
  },
  {
   "cell_type": "code",
   "execution_count": 24,
   "metadata": {},
   "outputs": [
    {
     "name": "stdout",
     "output_type": "stream",
     "text": [
      "56 (0.2%) negatives out of 30000 experiences\n",
      "144 (0.5%) positives out of 30000 experiences\n",
      "29799 (99.3%) zeros out of 30000 experiences\n"
     ]
    }
   ],
   "source": [
    "rewards = []\n",
    "buffers = [replay_buffer_1]\n",
    "for buffer in buffers:\n",
    "    r = [e[2] for e in buffer]\n",
    "    rewards = rewards + r\n",
    "negatives = rewards.count(-1)\n",
    "positives = rewards.count(1)\n",
    "zeros = rewards.count(0)\n",
    "total = len(rewards)\n",
    "print('{} ({:.1%}) negatives out of {} experiences'.format(negatives, negatives/total, total))\n",
    "print('{} ({:.1%}) positives out of {} experiences'.format(positives, positives/total, total))\n",
    "print('{} ({:.1%}) zeros out of {} experiences'.format(zeros, zeros/total, total))"
   ]
  },
  {
   "cell_type": "markdown",
   "metadata": {},
   "source": [
    "### 1. Prioritize Experiences with Positive and Negative Rewards"
   ]
  },
  {
   "cell_type": "code",
   "execution_count": 28,
   "metadata": {},
   "outputs": [],
   "source": [
    "class ReplayBuffer():\n",
    "    def __init__(self, action_size, buffer_size, batch_size, seed, p):\n",
    "        \"\"\"Initialize a ReplayBuffer object. Enable prioritized experience replay\n",
    "        by creating separate buffers for neutral experiences (r==0) vs prioritized\n",
    "        experiences (positive or negative reward).\"\"\"\n",
    "        self.action_size = action_size\n",
    "        self.prioritized_memory = deque(maxlen=buffer_size)\n",
    "        self.neutral_memory = deque(maxlen=buffer_size)\n",
    "        self.batch_size = batch_size\n",
    "        self.experience = namedtuple(\"Experience\", field_names=[\"state\", \"action\", \"reward\", \"next_state\", \"done\"])\n",
    "        self.seed = random.seed(seed)\n",
    "        self.p = p #p=proportion of experiences to sample from prioritized memory\n",
    "        self.check_batch_size_vs_proportion()\n",
    "        \n",
    "    class Error(Exception):\n",
    "        pass\n",
    "    \n",
    "    class BatchProportionError(Error):\n",
    "        pass        \n",
    "        \n",
    "    def check_batch_size_vs_proportion(self):\n",
    "        try:\n",
    "            if (self.p * self.batch_size) - int(self.p * self.batch_size) == 0:\n",
    "                return\n",
    "            else:\n",
    "                raise BatchProportionError\n",
    "        except:\n",
    "            print('Invalid ReplayBuffer: Proportion of batch for prioritized replay must be a whole number (p * batch_size is integer).')\n",
    "        \n",
    "    def add(self, state, action, reward, next_state, done):\n",
    "        \"\"\"Add a new experience to the appropriate buffer\"\"\"\n",
    "        e = self.experience(state, action, reward, next_state, done)\n",
    "        if self.p>0 and reward in [-1,1]:\n",
    "            self.prioritized_memory.append(e) \n",
    "        else:\n",
    "            self.neutral_memory.append(e)\n",
    "            \n",
    "        \n",
    "    def sample(self):\n",
    "        \"\"\"Randomly sample a batch of experiences from the memory buffer\"\"\"\n",
    "        if self.p>0:\n",
    "            experiences = (\n",
    "                random.sample(self.prioritized_memory, k=int(self.batch_size*self.p)) + \n",
    "                random.sample(self.neutral_memory, k=int(self.batch_size*(1-self.p)))           \n",
    "            )\n",
    "        else:\n",
    "            experiences = random.sample(self.neutral_memory, k=self.batch_size)  \n",
    "        random.shuffle(experiences)\n",
    "        # reshape and return experience components to device (CPU or GPU, set elsewhere)\n",
    "        # from_numpy() creates pytorch tensor from numpy array\n",
    "        states = torch.from_numpy(np.vstack([e.state for e in experiences if e is not None])).float().to(device)\n",
    "        actions = torch.from_numpy(np.vstack([e.action for e in experiences if e is not None])).long().to(device)\n",
    "        rewards = torch.from_numpy(np.vstack([e.reward for e in experiences if e is not None])).float().to(device)\n",
    "        next_states = torch.from_numpy(np.stack([e.next_state for e in experiences if e is not None])).float().to(device)\n",
    "        dones = torch.from_numpy(np.vstack([e.done for e in experiences if e is not None]).astype(np.uint8)).float().to(device)\n",
    "        \n",
    "        return (states, actions, rewards, next_states, dones)\n",
    "    \n",
    "#     def buffer_to_list(self, buffer):\n",
    "#         return list(buffer)\n",
    "    \n",
    "    def __len__(self):\n",
    "        \"\"\"Return the current size of replay buffer memory\"\"\"\n",
    "        return len(self.neutral_memory) + len(self.prioritized_memory)"
   ]
  },
  {
   "cell_type": "markdown",
   "metadata": {},
   "source": [
    "Set up Agent Class to Implement Learning Process"
   ]
  },
  {
   "cell_type": "code",
   "execution_count": 30,
   "metadata": {},
   "outputs": [],
   "source": [
    "class Agent():\n",
    "    def __init__(self, state_size, action_size, seed, eps=0.99, decay=0.005, min_eps=0.05):\n",
    "        \"\"\"Initialize the learning agent.\n",
    "        \n",
    "        params:\n",
    "            decay: (0, 1] epsilon is multplied by (1 - decay) after each episode. \n",
    "        \"\"\"\n",
    "        self.state_size = state_size\n",
    "        self.action_size = action_size\n",
    "        self.seed = random.seed(seed)\n",
    "        self.eps = eps\n",
    "        self.decay = decay\n",
    "        self.min_eps = min_eps\n",
    "        \n",
    "        #Initialize local and target q-networks\n",
    "        self.qnetwork_local = QNetwork(state_size, action_size, seed).to(device)\n",
    "        self.qnetwork_target = QNetwork(state_size, action_size, seed).to(device)\n",
    "        \n",
    "        # Initialize optimizer to run gradient descent on local q-network\n",
    "        self.optimizer = optim.Adam(self.qnetwork_local.parameters(), lr=LR) # LR is environment variable\n",
    "        \n",
    "        # Get experiences for training from replay buffer\n",
    "        self.memory = ReplayBuffer(action_size, BUFFER_SIZE, BATCH_SIZE, seed, P)\n",
    "        self.t_step = 0 # Time step counter\n",
    "        self.replay_buffer = None\n",
    "        \n",
    "    def step(self, state, action, reward, next_state, done):\n",
    "        # Save step to replay buffer\n",
    "        self.memory.add(state, action, reward, next_state, done)\n",
    "        \n",
    "        # Run learning cycle (backprop) every UPDATE_EVERY time steps\n",
    "        self.t_step = (self.t_step + 1) % UPDATE_EVERY\n",
    "        if self.t_step == 0:\n",
    "            # Make sure there are enough samples in buffer to fill batch\n",
    "            if (len(self.memory.prioritized_memory) >= P * BATCH_SIZE and \n",
    "                len(self.memory.neutral_memory) >= (1-P) * BATCH_SIZE):\n",
    "                experiences = self.memory.sample()\n",
    "                self.learn(experiences, GAMMA)\n",
    "        # apply epsilon decay after each episode\n",
    "        if done:\n",
    "            self.eps = max(self.min_eps, self.eps * (1 - self.decay))\n",
    "            # Save replay buffer to list\n",
    "#             self.replay_buffer = self.memory.buffer_to_list()\n",
    "        \n",
    "    def act(self, state):\n",
    "        \"\"\"Get policy action given current state\"\"\"\n",
    "        # unsqueeze() returns new tensor with extra dimension inserted at position\n",
    "        state = torch.from_numpy(state).float().unsqueeze(0).to(device)\n",
    "        # put qnetwork_local in eval mode (disable gradient computations)\n",
    "        self.qnetwork_local.eval()\n",
    "        with torch.no_grad():\n",
    "            # get inference\n",
    "            action_values = self.qnetwork_local(state)\n",
    "        # put qnetwork_local back in train mode\n",
    "        self.qnetwork_local.train()\n",
    "        \n",
    "        # select epsilon-greedy action from inference values\n",
    "        if random.random() > self.eps:\n",
    "            return np.argmax(action_values.cpu().data.numpy())\n",
    "        else:\n",
    "            return random.choice(np.arange(self.action_size))\n",
    "        \n",
    "    def learn(self, experiences, gamma):\n",
    "        \"\"\"Update parameters of local qnetwork using backward pass\"\"\"\n",
    "        states, actions, rewards, next_states, dones = experiences\n",
    "        \n",
    "        # Get max predicted Q values for next states from target model\n",
    "        Q_targets_next = self.qnetwork_target(next_states).detach().max(1)[0].unsqueeze(1)\n",
    "        # Compute Q targets for current states\n",
    "        Q_targets = rewards + (gamma * Q_targets_next * (1 - dones))\n",
    "        # Get expected Q values from local network\n",
    "        Q_expected = self.qnetwork_local(states).gather(1, actions)\n",
    "        \n",
    "        # Compute loss\n",
    "        loss = F.mse_loss(Q_expected, Q_targets)\n",
    "        # Minimize the loss\n",
    "        self.optimizer.zero_grad()\n",
    "        loss.backward()\n",
    "        self.optimizer.step()\n",
    "        \n",
    "        # update target network\n",
    "        self.soft_update(self.qnetwork_local, self.qnetwork_target, TAU)\n",
    "\n",
    "        \n",
    "    def soft_update(self, local_model, target_model, tau):\n",
    "        \"\"\"Soft update model parameters.\n",
    "        θ_target = τ*θ_local + (1 - τ)*θ_target\n",
    "\n",
    "        Params\n",
    "        ======\n",
    "            local_model (PyTorch model): weights will be copied from\n",
    "            target_model (PyTorch model): weights will be copied to\n",
    "            tau (float): interpolation parameter \n",
    "        \"\"\"\n",
    "        for target_param, local_param in zip(target_model.parameters(), local_model.parameters()):\n",
    "            target_param.data.copy_(tau * local_param.data + (1.0-tau) * target_param.data)"
   ]
  },
  {
   "cell_type": "markdown",
   "metadata": {},
   "source": [
    "Prioritized replay proportion P = 0.125"
   ]
  },
  {
   "cell_type": "code",
   "execution_count": 31,
   "metadata": {},
   "outputs": [
    {
     "name": "stdout",
     "output_type": "stream",
     "text": [
      "Episode 100\tAverage Score: 0.06\n",
      "Episode 200\tAverage Score: 1.05\n",
      "Episode 300\tAverage Score: 2.56\n",
      "Episode 350\tAverage Score: 3.05training time: 273.23979966800016s\n"
     ]
    }
   ],
   "source": [
    "P = 0.125\n",
    "\n",
    "# get the default brain\n",
    "brain_name = env.brain_names[0]\n",
    "brain = env.brains[brain_name]\n",
    "action_size = brain.vector_action_space_size\n",
    "\n",
    "# reset the environment\n",
    "env_info = env.reset(train_mode=True)[brain_name] \n",
    "state = env_info.vector_observations[0]            # get the current state\n",
    "state_size = len(state)\n",
    "score = 0  \n",
    "\n",
    "# create agent; initialize local and target q-network functions\n",
    "agent = Agent(state_size=state_size, action_size=action_size, seed=561, \n",
    "              eps=0.99, decay=0.015)\n",
    "\n",
    "start_time = timeit.default_timer()\n",
    "scores = train_banana_agent(agent=agent, n_episodes=350, max_t=2000)\n",
    "elapsed = timeit.default_timer() - start_time\n",
    "print('training time: {}s'.format(elapsed))"
   ]
  },
  {
   "cell_type": "markdown",
   "metadata": {},
   "source": [
    "Prioritized replay proportion P = 0.0625"
   ]
  },
  {
   "cell_type": "code",
   "execution_count": 32,
   "metadata": {},
   "outputs": [
    {
     "name": "stdout",
     "output_type": "stream",
     "text": [
      "Episode 100\tAverage Score: 0.10\n",
      "Episode 200\tAverage Score: 0.342\n",
      "Episode 300\tAverage Score: 0.68\n",
      "Episode 350\tAverage Score: 1.19training time: 276.3147756540002s\n"
     ]
    }
   ],
   "source": [
    "P = 0.0625\n",
    "\n",
    "# get the default brain\n",
    "brain_name = env.brain_names[0]\n",
    "brain = env.brains[brain_name]\n",
    "action_size = brain.vector_action_space_size\n",
    "\n",
    "# reset the environment\n",
    "env_info = env.reset(train_mode=True)[brain_name] \n",
    "state = env_info.vector_observations[0]            # get the current state\n",
    "state_size = len(state)\n",
    "score = 0  \n",
    "\n",
    "# create agent; initialize local and target q-network functions\n",
    "agent = Agent(state_size=state_size, action_size=action_size, seed=561, \n",
    "              eps=0.99, decay=0.015, min_eps=0.05)\n",
    "\n",
    "start_time = timeit.default_timer()\n",
    "scores = train_banana_agent(agent=agent, n_episodes=350, max_t=2000)\n",
    "elapsed = timeit.default_timer() - start_time\n",
    "print('\\ntraining time: {}s'.format(elapsed))"
   ]
  },
  {
   "cell_type": "markdown",
   "metadata": {},
   "source": [
    "No prioritization"
   ]
  },
  {
   "cell_type": "code",
   "execution_count": null,
   "metadata": {},
   "outputs": [],
   "source": [
    "P = 0\n",
    "\n",
    "# get the default brain\n",
    "brain_name = env.brain_names[0]\n",
    "brain = env.brains[brain_name]\n",
    "action_size = brain.vector_action_space_size\n",
    "\n",
    "# reset the environment\n",
    "env_info = env.reset(train_mode=True)[brain_name] \n",
    "state = env_info.vector_observations[0]            # get the current state\n",
    "state_size = len(state)\n",
    "score = 0  \n",
    "\n",
    "# create agent; initialize local and target q-network functions\n",
    "agent = Agent(state_size=state_size, action_size=action_size, seed=561, \n",
    "              eps=0.99, decay=0.015, min_eps=0.05)\n",
    "\n",
    "start_time = timeit.default_timer()\n",
    "scores = train_banana_agent(agent=agent, n_episodes=350, max_t=2000)\n",
    "elapsed = timeit.default_timer() - start_time\n",
    "print('\\ntraining time: {}s'.format(elapsed))"
   ]
  },
  {
   "cell_type": "markdown",
   "metadata": {},
   "source": [
    "Update less frequently"
   ]
  },
  {
   "cell_type": "code",
   "execution_count": null,
   "metadata": {},
   "outputs": [],
   "source": [
    "UPDATE_EVERY = 12\n",
    "P = 0\n",
    "\n",
    "# get the default brain\n",
    "brain_name = env.brain_names[0]\n",
    "brain = env.brains[brain_name]\n",
    "action_size = brain.vector_action_space_size\n",
    "\n",
    "# reset the environment\n",
    "env_info = env.reset(train_mode=True)[brain_name] \n",
    "state = env_info.vector_observations[0]            # get the current state\n",
    "state_size = len(state)\n",
    "score = 0  \n",
    "\n",
    "# create agent; initialize local and target q-network functions\n",
    "agent = Agent(state_size=state_size, action_size=action_size, seed=561, \n",
    "              eps=0.99, decay=0.015, min_eps=0.05)\n",
    "\n",
    "start_time = timeit.default_timer()\n",
    "scores = train_banana_agent(agent=agent, n_episodes=350, max_t=2000)\n",
    "elapsed = timeit.default_timer() - start_time\n",
    "print('\\ntraining time: {}s'.format(elapsed))"
   ]
  },
  {
   "cell_type": "markdown",
   "metadata": {},
   "source": [
    "### 2. Prioritize positive rewards only"
   ]
  },
  {
   "cell_type": "code",
   "execution_count": null,
   "metadata": {},
   "outputs": [],
   "source": [
    "class ReplayBuffer():\n",
    "    def __init__(self, action_size, buffer_size, batch_size, seed, p):\n",
    "        \"\"\"Initialize a ReplayBuffer object. Enable prioritized experience replay\n",
    "        by creating separate buffers for neutral experiences (r==0) vs prioritized\n",
    "        experiences (positive or negative reward).\"\"\"\n",
    "        self.action_size = action_size\n",
    "        self.prioritized_memory = deque(maxlen=buffer_size)\n",
    "        self.neutral_memory = deque(maxlen=buffer_size)\n",
    "        self.batch_size = batch_size\n",
    "        self.experience = namedtuple(\"Experience\", field_names=[\"state\", \"action\", \"reward\", \"next_state\", \"done\"])\n",
    "        self.seed = random.seed(seed)\n",
    "        self.p = p #p=proportion of experiences to sample from prioritized memory\n",
    "        self.check_batch_size_vs_proportion()\n",
    "        \n",
    "    class Error(Exception):\n",
    "        pass\n",
    "    \n",
    "    class BatchProportionError(Error):\n",
    "        pass        \n",
    "        \n",
    "    def check_batch_size_vs_proportion(self):\n",
    "        try:\n",
    "            if (self.p * self.batch_size) - int(self.p * self.batch_size) == 0:\n",
    "                return\n",
    "            else:\n",
    "                raise BatchProportionError\n",
    "        except:\n",
    "            print('Invalid ReplayBuffer: Proportion of batch for prioritized replay must be a whole number (p * batch_size is integer).')\n",
    "        \n",
    "    def add(self, state, action, reward, next_state, done):\n",
    "        \"\"\"Add a new experience to the appropriate buffer\"\"\"\n",
    "        e = self.experience(state, action, reward, next_state, done)\n",
    "        if self.p>0 and reward>0:\n",
    "            self.prioritized_memory.append(e)\n",
    "        else:\n",
    "            self.neutral_memory.append(e)\n",
    "            \n",
    "        \n",
    "    def sample(self):\n",
    "        \"\"\"Randomly sample a batch of experiences from the memory buffer\"\"\"\n",
    "        if self.p>0:\n",
    "            experiences = (\n",
    "                random.sample(self.prioritized_memory, k=int(self.batch_size*self.p)) + \n",
    "                random.sample(self.neutral_memory, k=int(self.batch_size*(1-self.p)))           \n",
    "            )\n",
    "        else:\n",
    "            random.sample(self.neutral_memory, k=1)  \n",
    "        random.shuffle(experiences)\n",
    "        # reshape and return experience components to device (CPU or GPU, set elsewhere)\n",
    "        # from_numpy() creates pytorch tensor from numpy array\n",
    "        states = torch.from_numpy(np.vstack([e.state for e in experiences if e is not None])).float().to(device)\n",
    "        actions = torch.from_numpy(np.vstack([e.action for e in experiences if e is not None])).long().to(device)\n",
    "        rewards = torch.from_numpy(np.vstack([e.reward for e in experiences if e is not None])).float().to(device)\n",
    "        next_states = torch.from_numpy(np.stack([e.next_state for e in experiences if e is not None])).float().to(device)\n",
    "        dones = torch.from_numpy(np.vstack([e.done for e in experiences if e is not None]).astype(np.uint8)).float().to(device)\n",
    "        \n",
    "        return (states, actions, rewards, next_states, dones)\n",
    "    \n",
    "#     def buffer_to_list(self, buffer):\n",
    "#         return list(buffer)\n",
    "    \n",
    "    def __len__(self):\n",
    "        \"\"\"Return the current size of replay buffer memory\"\"\"\n",
    "        return len(self.neutral_memory) + len(self.prioritized_memory)"
   ]
  },
  {
   "cell_type": "code",
   "execution_count": null,
   "metadata": {},
   "outputs": [],
   "source": [
    "P = 0.125\n",
    "\n",
    "# get the default brain\n",
    "brain_name = env.brain_names[0]\n",
    "brain = env.brains[brain_name]\n",
    "action_size = brain.vector_action_space_size\n",
    "\n",
    "# reset the environment\n",
    "env_info = env.reset(train_mode=True)[brain_name] \n",
    "state = env_info.vector_observations[0]            # get the current state\n",
    "state_size = len(state)\n",
    "score = 0  \n",
    "\n",
    "# create agent; initialize local and target q-network functions\n",
    "agent = Agent(state_size=state_size, action_size=action_size, seed=561, \n",
    "              eps=0.99, decay=0.015, min_eps=0.05)\n",
    "\n",
    "start_time = timeit.default_timer()\n",
    "scores = train_banana_agent(agent=agent, n_episodes=350, max_t=2000)\n",
    "elapsed = timeit.default_timer() - start_time\n",
    "print('\\ntraining time: {}s'.format(elapsed))"
   ]
  },
  {
   "cell_type": "code",
   "execution_count": null,
   "metadata": {},
   "outputs": [],
   "source": [
    "P = 0.0625\n",
    "\n",
    "# get the default brain\n",
    "brain_name = env.brain_names[0]\n",
    "brain = env.brains[brain_name]\n",
    "action_size = brain.vector_action_space_size\n",
    "\n",
    "# reset the environment\n",
    "env_info = env.reset(train_mode=True)[brain_name] \n",
    "state = env_info.vector_observations[0]            # get the current state\n",
    "state_size = len(state)\n",
    "score = 0  \n",
    "\n",
    "# create agent; initialize local and target q-network functions\n",
    "agent = Agent(state_size=state_size, action_size=action_size, seed=561, \n",
    "              eps=0.99, decay=0.015, min_eps=0.05)\n",
    "\n",
    "start_time = timeit.default_timer()\n",
    "scores = train_banana_agent(agent=agent, n_episodes=350, max_t=2000)\n",
    "elapsed = timeit.default_timer() - start_time\n",
    "print('\\ntraining time: {}s'.format(elapsed))"
   ]
  },
  {
   "cell_type": "code",
   "execution_count": null,
   "metadata": {},
   "outputs": [],
   "source": [
    "P = 0.0\n",
    "\n",
    "# get the default brain\n",
    "brain_name = env.brain_names[0]\n",
    "brain = env.brains[brain_name]\n",
    "action_size = brain.vector_action_space_size\n",
    "\n",
    "# reset the environment\n",
    "env_info = env.reset(train_mode=True)[brain_name] \n",
    "state = env_info.vector_observations[0]            # get the current state\n",
    "state_size = len(state)\n",
    "score = 0  \n",
    "\n",
    "# create agent; initialize local and target q-network functions\n",
    "agent = Agent(state_size=state_size, action_size=action_size, seed=561, eps=0.99, decay=0.015)\n",
    "\n",
    "start_time = timeit.default_timer()\n",
    "scores = train_banana_agent(agent=agent, n_episodes=350, max_t=2000)\n",
    "elapsed = timeit.default_timer() - start_time\n",
    "print('\\ntraining time: {}s'.format(elapsed))"
   ]
  },
  {
   "cell_type": "code",
   "execution_count": 25,
   "metadata": {},
   "outputs": [],
   "source": [
    "env.close()"
   ]
  },
  {
   "cell_type": "code",
   "execution_count": null,
   "metadata": {},
   "outputs": [],
   "source": []
  }
 ],
 "metadata": {
  "kernelspec": {
   "display_name": "Python 3",
   "language": "python",
   "name": "python3"
  },
  "language_info": {
   "codemirror_mode": {
    "name": "ipython",
    "version": 3
   },
   "file_extension": ".py",
   "mimetype": "text/x-python",
   "name": "python",
   "nbconvert_exporter": "python",
   "pygments_lexer": "ipython3",
   "version": "3.6.13"
  }
 },
 "nbformat": 4,
 "nbformat_minor": 2
}
